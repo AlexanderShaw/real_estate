{
 "cells": [
  {
   "cell_type": "code",
   "execution_count": 133,
   "metadata": {},
   "outputs": [],
   "source": [
    "import requests\n",
    "import pandas as pd\n",
    "import numpy as np"
   ]
  },
  {
   "cell_type": "code",
   "execution_count": 183,
   "metadata": {},
   "outputs": [],
   "source": [
    "def data_make(link):\n",
    "    # Function to make dataframe from InfoSparks link\n",
    "    csv = requests.get(link)\n",
    "    csv_split = csv.text.replace(\"$\",\"\").replace(\"\\r\",\"\").split(\"\\n\")\n",
    "    csv_split = [x for x in csv_split if x != '']\n",
    "    metric = [x for x in csv_split if 'Metric:' in x][0].split(',')[1:][0]\n",
    "    segments = [x for x in csv_split if 'Segments:' in x][0].split(',')[1:]\n",
    "    time_calculation = [x for x in csv_split if 'Time Calculation:' in x][0].split(',')[1:][0]\n",
    "    filters = {segment:[x for x in csv_split if segment+':' in x][0].split(', ')[1:] for segment in segments}\n",
    "    data_locator = \"Date,\"\n",
    "    for segment in segments:\n",
    "        data_locator += \"\\\"\" + segment + \"\\\"\" + \",\"\n",
    "    data_index = csv_split.index(data_locator)\n",
    "    data = csv_split[data_index + 1 : -1]\n",
    "    data = [string.split(\",\")[:-1] for string in data]\n",
    "    data = np.array(data).transpose()\n",
    "    df = pd.DataFrame(columns=[\"Date\", metric, \"Location\", \"Time Calculation\"])\n",
    "    for i, segment in enumerate(segments):\n",
    "        data_dict = {'Date':data[0], metric:[float(x) if x != '' else np.nan for x in data[i+1] ], \"Location\":segment, \"Time Calculation\": time_calculation}\n",
    "        for filter in filters[segment]:\n",
    "            data_dict[\"#\"+filter] = \"Yes\"\n",
    "        df = pd.concat([df, pd.DataFrame(data_dict)])\n",
    "\n",
    "    df['Date'] = pd.to_datetime(df['Date'])\n",
    "    df['Date'] = df['Date'].apply(lambda x: x.strftime('%Y-%m'))\n",
    "\n",
    "    return df\n"
   ]
  },
  {
   "cell_type": "code",
   "execution_count": 214,
   "metadata": {},
   "outputs": [],
   "source": [
    "def merge_two_dfs(df1, df2):\n",
    "    # merge two dfs into one big dfs, combining on filters, date, location and time calculation\n",
    "    add_filter_cols = [col for col in df2.columns if col not in df1.columns and \"#\" in col]\n",
    "    for filter in add_filter_cols:\n",
    "        df1[filter] = \"No\"\n",
    "\n",
    "    return df1.merge(df2, how='outer')\n",
    "\n",
    "def merge_dfs(dfs):\n",
    "    # merge many dfs into one\n",
    "    if len(dfs) > 1:\n",
    "        df = dfs[0]\n",
    "        for dff in dfs[1:]:\n",
    "            df = merge_two_dfs(df, dff)\n",
    "        return df\n",
    "    else:\n",
    "        return dfs[0]\n",
    "    \n",
    "def links_to_data(links):\n",
    "    if type(links[0]) == list:\n",
    "        dfs = [data_make(link) for link in links[0]]\n",
    "        df = merge_dfs(dfs)\n",
    "        for link_list in links[1:]:\n",
    "            dfs = [data_make(link) for link in link_list]\n",
    "            df = df.merge(merge_dfs(dfs), how='outer')\n",
    "        return df\n",
    "    else:\n",
    "        dfs = [data_make(link) for link in links]\n",
    "        return merge_dfs(dfs)"
   ]
  },
  {
   "cell_type": "code",
   "execution_count": 215,
   "metadata": {},
   "outputs": [],
   "source": [
    "\n",
    "link1 = [\n",
    "    # These links are all the most granular live data on InfoSpark about Edmonds, Shoreline, Mukilteo, and Lynnwood. No filters, all features, Monthly calculations\n",
    "    \"https://nwmls.stats.showingtime.com/infoserv/s-v1/JUr9-RbE\",\n",
    "    \"https://nwmls.stats.showingtime.com/infoserv/s-v1/JUrh-Xcz\",\n",
    "    \"https://nwmls.stats.showingtime.com/infoserv/s-v1/JUr2-i1W\",\n",
    "    \"https://nwmls.stats.showingtime.com/infoserv/s-v1/JUrT-JCM\",\n",
    "    \"https://nwmls.stats.showingtime.com/infoserv/s-v1/JUrb-J5Z\",\n",
    "    \"https://nwmls.stats.showingtime.com/infoserv/s-v1/JUr0-pAP\",\n",
    "    \"https://nwmls.stats.showingtime.com/infoserv/s-v1/JUrf-yYx\",\n",
    "    \"https://nwmls.stats.showingtime.com/infoserv/s-v1/JUrP-1f7\",\n",
    "    \"https://nwmls.stats.showingtime.com/infoserv/s-v1/JUrn-2jA\",\n",
    "    \"https://nwmls.stats.showingtime.com/infoserv/s-v1/JUrV-Vwt\",\n",
    "    \"https://nwmls.stats.showingtime.com/infoserv/s-v1/JUrc-v93\",\n",
    "    \"https://nwmls.stats.showingtime.com/infoserv/s-v1/JUr8-4iG\",\n",
    "    \"https://nwmls.stats.showingtime.com/infoserv/s-v1/JUDB-9A1\",\n",
    "    \"https://nwmls.stats.showingtime.com/infoserv/s-v1/JUru-xDc\",\n",
    "]\n",
    "link2 = [\n",
    "    # next is the same for Lake Forest Park, Mountlake Terrace, Kenmore, and Bothell\n",
    "    \"https://nwmls.stats.showingtime.com/infoserv/s-v1/JUDl-Oll\",\n",
    "    \"https://nwmls.stats.showingtime.com/infoserv/s-v1/JUDZ-7d8\",\n",
    "    \"https://nwmls.stats.showingtime.com/infoserv/s-v1/JUDj-9GJ\",\n",
    "    \"https://nwmls.stats.showingtime.com/infoserv/s-v1/JUDf-gBX\",\n",
    "    \"https://nwmls.stats.showingtime.com/infoserv/s-v1/JUDP-i9m\",\n",
    "    \"https://nwmls.stats.showingtime.com/infoserv/s-v1/JUDY-axI\",\n",
    "    \"https://nwmls.stats.showingtime.com/infoserv/s-v1/JUDH-TzJ\",\n",
    "    \"https://nwmls.stats.showingtime.com/infoserv/s-v1/JUDF-inz\",\n",
    "    \"https://nwmls.stats.showingtime.com/infoserv/s-v1/JUDE-vQj\",\n",
    "    \"https://nwmls.stats.showingtime.com/infoserv/s-v1/JUDR-m03\",\n",
    "    \"https://nwmls.stats.showingtime.com/infoserv/s-v1/JUD8-lQN\",\n",
    "    \"https://nwmls.stats.showingtime.com/infoserv/s-v1/JUDw-Pkn\",\n",
    "    \"https://nwmls.stats.showingtime.com/infoserv/s-v1/JUDS-ijU\",\n",
    "    \"https://nwmls.stats.showingtime.com/infoserv/s-v1/JUDO-8Kf\",\n",
    "]\n",
    "df = links_to_data([link1, link2])\n"
   ]
  },
  {
   "cell_type": "code",
   "execution_count": 224,
   "metadata": {},
   "outputs": [
    {
     "data": {
      "text/html": [
       "<div>\n",
       "<style scoped>\n",
       "    .dataframe tbody tr th:only-of-type {\n",
       "        vertical-align: middle;\n",
       "    }\n",
       "\n",
       "    .dataframe tbody tr th {\n",
       "        vertical-align: top;\n",
       "    }\n",
       "\n",
       "    .dataframe thead th {\n",
       "        text-align: right;\n",
       "    }\n",
       "</style>\n",
       "<table border=\"1\" class=\"dataframe\">\n",
       "  <thead>\n",
       "    <tr style=\"text-align: right;\">\n",
       "      <th></th>\n",
       "      <th>Average Sales Price</th>\n",
       "      <th>New Listings</th>\n",
       "      <th>Homes for Sale</th>\n",
       "      <th>Pending Sales</th>\n",
       "      <th>Closed Sales</th>\n",
       "      <th>Average Days on Market</th>\n",
       "      <th>Months Supply of Inventory (Pending)</th>\n",
       "      <th>Months Supply of Inventory (Closed)</th>\n",
       "      <th>Average Percent of Last List Price</th>\n",
       "      <th>Average Percent of Last Original Price</th>\n",
       "      <th>Average Price Per Square Foot</th>\n",
       "      <th>Dollar Volume of Closed Sales</th>\n",
       "      <th>Average Showings to Pending</th>\n",
       "      <th>Showings Per Listing</th>\n",
       "    </tr>\n",
       "  </thead>\n",
       "  <tbody>\n",
       "    <tr>\n",
       "      <th>count</th>\n",
       "      <td>1.664000e+03</td>\n",
       "      <td>1664.000000</td>\n",
       "      <td>1664.000000</td>\n",
       "      <td>1664.000000</td>\n",
       "      <td>1664.000000</td>\n",
       "      <td>1664.000000</td>\n",
       "      <td>1663.000000</td>\n",
       "      <td>1663.000000</td>\n",
       "      <td>1664.000000</td>\n",
       "      <td>1664.000000</td>\n",
       "      <td>1664.000000</td>\n",
       "      <td>1.664000e+03</td>\n",
       "      <td>416.000000</td>\n",
       "      <td>416.000000</td>\n",
       "    </tr>\n",
       "    <tr>\n",
       "      <th>mean</th>\n",
       "      <td>5.020613e+05</td>\n",
       "      <td>90.102764</td>\n",
       "      <td>192.661659</td>\n",
       "      <td>65.019832</td>\n",
       "      <td>65.037260</td>\n",
       "      <td>43.596154</td>\n",
       "      <td>3.473542</td>\n",
       "      <td>3.481539</td>\n",
       "      <td>1.002757</td>\n",
       "      <td>0.982463</td>\n",
       "      <td>259.163462</td>\n",
       "      <td>3.308391e+07</td>\n",
       "      <td>17.485577</td>\n",
       "      <td>11.046154</td>\n",
       "    </tr>\n",
       "    <tr>\n",
       "      <th>std</th>\n",
       "      <td>2.014210e+05</td>\n",
       "      <td>76.786549</td>\n",
       "      <td>216.459988</td>\n",
       "      <td>56.365455</td>\n",
       "      <td>56.637912</td>\n",
       "      <td>28.020809</td>\n",
       "      <td>3.120583</td>\n",
       "      <td>3.143303</td>\n",
       "      <td>0.034706</td>\n",
       "      <td>0.048799</td>\n",
       "      <td>93.491555</td>\n",
       "      <td>3.448561e+07</td>\n",
       "      <td>12.847569</td>\n",
       "      <td>9.751129</td>\n",
       "    </tr>\n",
       "    <tr>\n",
       "      <th>min</th>\n",
       "      <td>1.446290e+05</td>\n",
       "      <td>4.000000</td>\n",
       "      <td>0.000000</td>\n",
       "      <td>2.000000</td>\n",
       "      <td>2.000000</td>\n",
       "      <td>4.000000</td>\n",
       "      <td>0.000000</td>\n",
       "      <td>0.000000</td>\n",
       "      <td>0.885000</td>\n",
       "      <td>0.801000</td>\n",
       "      <td>102.000000</td>\n",
       "      <td>7.770000e+05</td>\n",
       "      <td>1.000000</td>\n",
       "      <td>0.300000</td>\n",
       "    </tr>\n",
       "    <tr>\n",
       "      <th>25%</th>\n",
       "      <td>3.598765e+05</td>\n",
       "      <td>32.000000</td>\n",
       "      <td>52.000000</td>\n",
       "      <td>24.000000</td>\n",
       "      <td>24.000000</td>\n",
       "      <td>21.000000</td>\n",
       "      <td>1.200000</td>\n",
       "      <td>1.200000</td>\n",
       "      <td>0.982750</td>\n",
       "      <td>0.951000</td>\n",
       "      <td>189.750000</td>\n",
       "      <td>1.090746e+07</td>\n",
       "      <td>4.000000</td>\n",
       "      <td>1.500000</td>\n",
       "    </tr>\n",
       "    <tr>\n",
       "      <th>50%</th>\n",
       "      <td>4.447365e+05</td>\n",
       "      <td>60.000000</td>\n",
       "      <td>111.000000</td>\n",
       "      <td>43.000000</td>\n",
       "      <td>42.000000</td>\n",
       "      <td>37.000000</td>\n",
       "      <td>2.300000</td>\n",
       "      <td>2.300000</td>\n",
       "      <td>0.996000</td>\n",
       "      <td>0.982000</td>\n",
       "      <td>232.000000</td>\n",
       "      <td>2.089048e+07</td>\n",
       "      <td>18.000000</td>\n",
       "      <td>9.400000</td>\n",
       "    </tr>\n",
       "    <tr>\n",
       "      <th>75%</th>\n",
       "      <td>6.208810e+05</td>\n",
       "      <td>128.000000</td>\n",
       "      <td>241.000000</td>\n",
       "      <td>91.000000</td>\n",
       "      <td>91.000000</td>\n",
       "      <td>61.000000</td>\n",
       "      <td>5.050000</td>\n",
       "      <td>5.100000</td>\n",
       "      <td>1.013000</td>\n",
       "      <td>1.005000</td>\n",
       "      <td>314.000000</td>\n",
       "      <td>4.299501e+07</td>\n",
       "      <td>25.000000</td>\n",
       "      <td>15.725000</td>\n",
       "    </tr>\n",
       "    <tr>\n",
       "      <th>max</th>\n",
       "      <td>1.352763e+06</td>\n",
       "      <td>453.000000</td>\n",
       "      <td>1222.000000</td>\n",
       "      <td>289.000000</td>\n",
       "      <td>307.000000</td>\n",
       "      <td>175.000000</td>\n",
       "      <td>16.200000</td>\n",
       "      <td>17.700000</td>\n",
       "      <td>1.264000</td>\n",
       "      <td>1.264000</td>\n",
       "      <td>576.000000</td>\n",
       "      <td>2.476258e+08</td>\n",
       "      <td>88.000000</td>\n",
       "      <td>55.100000</td>\n",
       "    </tr>\n",
       "  </tbody>\n",
       "</table>\n",
       "</div>"
      ],
      "text/plain": [
       "       Average Sales Price  New Listings  Homes for Sale  Pending Sales  \\\n",
       "count         1.664000e+03   1664.000000     1664.000000    1664.000000   \n",
       "mean          5.020613e+05     90.102764      192.661659      65.019832   \n",
       "std           2.014210e+05     76.786549      216.459988      56.365455   \n",
       "min           1.446290e+05      4.000000        0.000000       2.000000   \n",
       "25%           3.598765e+05     32.000000       52.000000      24.000000   \n",
       "50%           4.447365e+05     60.000000      111.000000      43.000000   \n",
       "75%           6.208810e+05    128.000000      241.000000      91.000000   \n",
       "max           1.352763e+06    453.000000     1222.000000     289.000000   \n",
       "\n",
       "       Closed Sales  Average Days on Market  \\\n",
       "count   1664.000000             1664.000000   \n",
       "mean      65.037260               43.596154   \n",
       "std       56.637912               28.020809   \n",
       "min        2.000000                4.000000   \n",
       "25%       24.000000               21.000000   \n",
       "50%       42.000000               37.000000   \n",
       "75%       91.000000               61.000000   \n",
       "max      307.000000              175.000000   \n",
       "\n",
       "       Months Supply of Inventory (Pending)  \\\n",
       "count                           1663.000000   \n",
       "mean                               3.473542   \n",
       "std                                3.120583   \n",
       "min                                0.000000   \n",
       "25%                                1.200000   \n",
       "50%                                2.300000   \n",
       "75%                                5.050000   \n",
       "max                               16.200000   \n",
       "\n",
       "       Months Supply of Inventory (Closed)  \\\n",
       "count                          1663.000000   \n",
       "mean                              3.481539   \n",
       "std                               3.143303   \n",
       "min                               0.000000   \n",
       "25%                               1.200000   \n",
       "50%                               2.300000   \n",
       "75%                               5.100000   \n",
       "max                              17.700000   \n",
       "\n",
       "       Average Percent of Last List Price  \\\n",
       "count                         1664.000000   \n",
       "mean                             1.002757   \n",
       "std                              0.034706   \n",
       "min                              0.885000   \n",
       "25%                              0.982750   \n",
       "50%                              0.996000   \n",
       "75%                              1.013000   \n",
       "max                              1.264000   \n",
       "\n",
       "       Average Percent of Last Original Price  Average Price Per Square Foot  \\\n",
       "count                             1664.000000                    1664.000000   \n",
       "mean                                 0.982463                     259.163462   \n",
       "std                                  0.048799                      93.491555   \n",
       "min                                  0.801000                     102.000000   \n",
       "25%                                  0.951000                     189.750000   \n",
       "50%                                  0.982000                     232.000000   \n",
       "75%                                  1.005000                     314.000000   \n",
       "max                                  1.264000                     576.000000   \n",
       "\n",
       "       Dollar Volume of Closed Sales  Average Showings to Pending  \\\n",
       "count                   1.664000e+03                   416.000000   \n",
       "mean                    3.308391e+07                    17.485577   \n",
       "std                     3.448561e+07                    12.847569   \n",
       "min                     7.770000e+05                     1.000000   \n",
       "25%                     1.090746e+07                     4.000000   \n",
       "50%                     2.089048e+07                    18.000000   \n",
       "75%                     4.299501e+07                    25.000000   \n",
       "max                     2.476258e+08                    88.000000   \n",
       "\n",
       "       Showings Per Listing  \n",
       "count            416.000000  \n",
       "mean              11.046154  \n",
       "std                9.751129  \n",
       "min                0.300000  \n",
       "25%                1.500000  \n",
       "50%                9.400000  \n",
       "75%               15.725000  \n",
       "max               55.100000  "
      ]
     },
     "execution_count": 224,
     "metadata": {},
     "output_type": "execute_result"
    }
   ],
   "source": [
    "df.describe()"
   ]
  },
  {
   "attachments": {},
   "cell_type": "markdown",
   "metadata": {},
   "source": [
    "# Cut the data!"
   ]
  },
  {
   "cell_type": "code",
   "execution_count": 263,
   "metadata": {},
   "outputs": [
    {
     "data": {
      "text/html": [
       "<div>\n",
       "<style scoped>\n",
       "    .dataframe tbody tr th:only-of-type {\n",
       "        vertical-align: middle;\n",
       "    }\n",
       "\n",
       "    .dataframe tbody tr th {\n",
       "        vertical-align: top;\n",
       "    }\n",
       "\n",
       "    .dataframe thead th {\n",
       "        text-align: right;\n",
       "    }\n",
       "</style>\n",
       "<table border=\"1\" class=\"dataframe\">\n",
       "  <thead>\n",
       "    <tr style=\"text-align: right;\">\n",
       "      <th></th>\n",
       "      <th>Average Sales Price</th>\n",
       "      <th>New Listings</th>\n",
       "      <th>Homes for Sale</th>\n",
       "      <th>Pending Sales</th>\n",
       "      <th>Closed Sales</th>\n",
       "      <th>Average Days on Market</th>\n",
       "      <th>Months Supply of Inventory (Pending)</th>\n",
       "      <th>Months Supply of Inventory (Closed)</th>\n",
       "      <th>Average Percent of Last List Price</th>\n",
       "      <th>Average Percent of Last Original Price</th>\n",
       "      <th>Average Price Per Square Foot</th>\n",
       "      <th>Dollar Volume of Closed Sales</th>\n",
       "      <th>Average Showings to Pending</th>\n",
       "      <th>Showings Per Listing</th>\n",
       "      <th>Average Sales Price Color</th>\n",
       "      <th>Location</th>\n",
       "    </tr>\n",
       "    <tr>\n",
       "      <th>Location</th>\n",
       "      <th></th>\n",
       "      <th></th>\n",
       "      <th></th>\n",
       "      <th></th>\n",
       "      <th></th>\n",
       "      <th></th>\n",
       "      <th></th>\n",
       "      <th></th>\n",
       "      <th></th>\n",
       "      <th></th>\n",
       "      <th></th>\n",
       "      <th></th>\n",
       "      <th></th>\n",
       "      <th></th>\n",
       "      <th></th>\n",
       "      <th></th>\n",
       "    </tr>\n",
       "  </thead>\n",
       "  <tbody>\n",
       "    <tr>\n",
       "      <th>Bothell</th>\n",
       "      <td>9.475092e+05</td>\n",
       "      <td>532.0</td>\n",
       "      <td>474.0</td>\n",
       "      <td>523.0</td>\n",
       "      <td>476.0</td>\n",
       "      <td>137.0</td>\n",
       "      <td>3.0</td>\n",
       "      <td>3.0</td>\n",
       "      <td>3.972</td>\n",
       "      <td>3.885</td>\n",
       "      <td>1721.0</td>\n",
       "      <td>451014386.0</td>\n",
       "      <td>95.0</td>\n",
       "      <td>47.0</td>\n",
       "      <td>388915.199298</td>\n",
       "      <td>Bothell</td>\n",
       "    </tr>\n",
       "    <tr>\n",
       "      <th>Edmonds</th>\n",
       "      <td>9.082055e+05</td>\n",
       "      <td>224.0</td>\n",
       "      <td>220.0</td>\n",
       "      <td>225.0</td>\n",
       "      <td>181.0</td>\n",
       "      <td>138.0</td>\n",
       "      <td>3.5</td>\n",
       "      <td>3.3</td>\n",
       "      <td>3.976</td>\n",
       "      <td>3.898</td>\n",
       "      <td>1821.0</td>\n",
       "      <td>164385188.0</td>\n",
       "      <td>85.0</td>\n",
       "      <td>42.4</td>\n",
       "      <td>349611.443576</td>\n",
       "      <td>Edmonds</td>\n",
       "    </tr>\n",
       "    <tr>\n",
       "      <th>Kenmore</th>\n",
       "      <td>1.004691e+06</td>\n",
       "      <td>162.0</td>\n",
       "      <td>178.0</td>\n",
       "      <td>137.0</td>\n",
       "      <td>107.0</td>\n",
       "      <td>125.0</td>\n",
       "      <td>6.0</td>\n",
       "      <td>5.8</td>\n",
       "      <td>4.003</td>\n",
       "      <td>3.921</td>\n",
       "      <td>1771.0</td>\n",
       "      <td>107501945.0</td>\n",
       "      <td>86.0</td>\n",
       "      <td>38.4</td>\n",
       "      <td>446097.059778</td>\n",
       "      <td>Kenmore</td>\n",
       "    </tr>\n",
       "    <tr>\n",
       "      <th>Lake Forest Park</th>\n",
       "      <td>9.567050e+05</td>\n",
       "      <td>36.0</td>\n",
       "      <td>31.0</td>\n",
       "      <td>32.0</td>\n",
       "      <td>32.0</td>\n",
       "      <td>117.0</td>\n",
       "      <td>2.4</td>\n",
       "      <td>2.3</td>\n",
       "      <td>4.105</td>\n",
       "      <td>4.012</td>\n",
       "      <td>1702.0</td>\n",
       "      <td>30614561.0</td>\n",
       "      <td>132.0</td>\n",
       "      <td>83.2</td>\n",
       "      <td>398111.016262</td>\n",
       "      <td>Lake Forest Park</td>\n",
       "    </tr>\n",
       "    <tr>\n",
       "      <th>Lynnwood</th>\n",
       "      <td>7.023898e+05</td>\n",
       "      <td>353.0</td>\n",
       "      <td>329.0</td>\n",
       "      <td>367.0</td>\n",
       "      <td>323.0</td>\n",
       "      <td>137.0</td>\n",
       "      <td>3.1</td>\n",
       "      <td>3.1</td>\n",
       "      <td>3.977</td>\n",
       "      <td>3.900</td>\n",
       "      <td>1508.0</td>\n",
       "      <td>226871919.0</td>\n",
       "      <td>80.0</td>\n",
       "      <td>40.9</td>\n",
       "      <td>143795.827117</td>\n",
       "      <td>Lynnwood</td>\n",
       "    </tr>\n",
       "    <tr>\n",
       "      <th>Mountlake Terrace</th>\n",
       "      <td>6.275696e+05</td>\n",
       "      <td>81.0</td>\n",
       "      <td>61.0</td>\n",
       "      <td>74.0</td>\n",
       "      <td>59.0</td>\n",
       "      <td>114.0</td>\n",
       "      <td>2.8</td>\n",
       "      <td>2.7</td>\n",
       "      <td>3.956</td>\n",
       "      <td>3.906</td>\n",
       "      <td>1755.0</td>\n",
       "      <td>37026609.0</td>\n",
       "      <td>88.0</td>\n",
       "      <td>46.6</td>\n",
       "      <td>68975.629080</td>\n",
       "      <td>Mountlake Terrace</td>\n",
       "    </tr>\n",
       "    <tr>\n",
       "      <th>Mukilteo</th>\n",
       "      <td>7.293451e+05</td>\n",
       "      <td>89.0</td>\n",
       "      <td>92.0</td>\n",
       "      <td>93.0</td>\n",
       "      <td>77.0</td>\n",
       "      <td>140.0</td>\n",
       "      <td>4.0</td>\n",
       "      <td>3.9</td>\n",
       "      <td>3.987</td>\n",
       "      <td>3.931</td>\n",
       "      <td>1728.0</td>\n",
       "      <td>56159575.0</td>\n",
       "      <td>69.0</td>\n",
       "      <td>35.3</td>\n",
       "      <td>170751.114882</td>\n",
       "      <td>Mukilteo</td>\n",
       "    </tr>\n",
       "    <tr>\n",
       "      <th>Shoreline</th>\n",
       "      <td>8.267128e+05</td>\n",
       "      <td>267.0</td>\n",
       "      <td>368.0</td>\n",
       "      <td>242.0</td>\n",
       "      <td>186.0</td>\n",
       "      <td>139.0</td>\n",
       "      <td>6.8</td>\n",
       "      <td>6.4</td>\n",
       "      <td>4.019</td>\n",
       "      <td>3.921</td>\n",
       "      <td>1862.0</td>\n",
       "      <td>153768578.0</td>\n",
       "      <td>86.0</td>\n",
       "      <td>35.7</td>\n",
       "      <td>268118.769958</td>\n",
       "      <td>Shoreline</td>\n",
       "    </tr>\n",
       "  </tbody>\n",
       "</table>\n",
       "</div>"
      ],
      "text/plain": [
       "                   Average Sales Price  New Listings  Homes for Sale  \\\n",
       "Location                                                               \n",
       "Bothell                   9.475092e+05         532.0           474.0   \n",
       "Edmonds                   9.082055e+05         224.0           220.0   \n",
       "Kenmore                   1.004691e+06         162.0           178.0   \n",
       "Lake Forest Park          9.567050e+05          36.0            31.0   \n",
       "Lynnwood                  7.023898e+05         353.0           329.0   \n",
       "Mountlake Terrace         6.275696e+05          81.0            61.0   \n",
       "Mukilteo                  7.293451e+05          89.0            92.0   \n",
       "Shoreline                 8.267128e+05         267.0           368.0   \n",
       "\n",
       "                   Pending Sales  Closed Sales  Average Days on Market  \\\n",
       "Location                                                                 \n",
       "Bothell                    523.0         476.0                   137.0   \n",
       "Edmonds                    225.0         181.0                   138.0   \n",
       "Kenmore                    137.0         107.0                   125.0   \n",
       "Lake Forest Park            32.0          32.0                   117.0   \n",
       "Lynnwood                   367.0         323.0                   137.0   \n",
       "Mountlake Terrace           74.0          59.0                   114.0   \n",
       "Mukilteo                    93.0          77.0                   140.0   \n",
       "Shoreline                  242.0         186.0                   139.0   \n",
       "\n",
       "                   Months Supply of Inventory (Pending)  \\\n",
       "Location                                                  \n",
       "Bothell                                             3.0   \n",
       "Edmonds                                             3.5   \n",
       "Kenmore                                             6.0   \n",
       "Lake Forest Park                                    2.4   \n",
       "Lynnwood                                            3.1   \n",
       "Mountlake Terrace                                   2.8   \n",
       "Mukilteo                                            4.0   \n",
       "Shoreline                                           6.8   \n",
       "\n",
       "                   Months Supply of Inventory (Closed)  \\\n",
       "Location                                                 \n",
       "Bothell                                            3.0   \n",
       "Edmonds                                            3.3   \n",
       "Kenmore                                            5.8   \n",
       "Lake Forest Park                                   2.3   \n",
       "Lynnwood                                           3.1   \n",
       "Mountlake Terrace                                  2.7   \n",
       "Mukilteo                                           3.9   \n",
       "Shoreline                                          6.4   \n",
       "\n",
       "                   Average Percent of Last List Price  \\\n",
       "Location                                                \n",
       "Bothell                                         3.972   \n",
       "Edmonds                                         3.976   \n",
       "Kenmore                                         4.003   \n",
       "Lake Forest Park                                4.105   \n",
       "Lynnwood                                        3.977   \n",
       "Mountlake Terrace                               3.956   \n",
       "Mukilteo                                        3.987   \n",
       "Shoreline                                       4.019   \n",
       "\n",
       "                   Average Percent of Last Original Price  \\\n",
       "Location                                                    \n",
       "Bothell                                             3.885   \n",
       "Edmonds                                             3.898   \n",
       "Kenmore                                             3.921   \n",
       "Lake Forest Park                                    4.012   \n",
       "Lynnwood                                            3.900   \n",
       "Mountlake Terrace                                   3.906   \n",
       "Mukilteo                                            3.931   \n",
       "Shoreline                                           3.921   \n",
       "\n",
       "                   Average Price Per Square Foot  \\\n",
       "Location                                           \n",
       "Bothell                                   1721.0   \n",
       "Edmonds                                   1821.0   \n",
       "Kenmore                                   1771.0   \n",
       "Lake Forest Park                          1702.0   \n",
       "Lynnwood                                  1508.0   \n",
       "Mountlake Terrace                         1755.0   \n",
       "Mukilteo                                  1728.0   \n",
       "Shoreline                                 1862.0   \n",
       "\n",
       "                   Dollar Volume of Closed Sales  Average Showings to Pending  \\\n",
       "Location                                                                        \n",
       "Bothell                              451014386.0                         95.0   \n",
       "Edmonds                              164385188.0                         85.0   \n",
       "Kenmore                              107501945.0                         86.0   \n",
       "Lake Forest Park                      30614561.0                        132.0   \n",
       "Lynnwood                             226871919.0                         80.0   \n",
       "Mountlake Terrace                     37026609.0                         88.0   \n",
       "Mukilteo                              56159575.0                         69.0   \n",
       "Shoreline                            153768578.0                         86.0   \n",
       "\n",
       "                   Showings Per Listing  Average Sales Price Color  \\\n",
       "Location                                                             \n",
       "Bothell                            47.0              388915.199298   \n",
       "Edmonds                            42.4              349611.443576   \n",
       "Kenmore                            38.4              446097.059778   \n",
       "Lake Forest Park                   83.2              398111.016262   \n",
       "Lynnwood                           40.9              143795.827117   \n",
       "Mountlake Terrace                  46.6               68975.629080   \n",
       "Mukilteo                           35.3              170751.114882   \n",
       "Shoreline                          35.7              268118.769958   \n",
       "\n",
       "                            Location  \n",
       "Location                              \n",
       "Bothell                      Bothell  \n",
       "Edmonds                      Edmonds  \n",
       "Kenmore                      Kenmore  \n",
       "Lake Forest Park    Lake Forest Park  \n",
       "Lynnwood                    Lynnwood  \n",
       "Mountlake Terrace  Mountlake Terrace  \n",
       "Mukilteo                    Mukilteo  \n",
       "Shoreline                  Shoreline  "
      ]
     },
     "execution_count": 263,
     "metadata": {},
     "output_type": "execute_result"
    }
   ],
   "source": [
    "dff = df.loc[df.Date >= \"2023-01\"].groupby(['Location']).sum()\n",
    "dff[\"Average Sales Price\"] = dff[\"Dollar Volume of Closed Sales\"] / dff[\"Closed Sales\"]\n",
    "dff[\"Average Sales Price Color\"] = dff[\"Average Sales Price\"] - dff[\"Average Sales Price\"].mean() / 1.5\n",
    "dff[\"Location\"] = dff.index\n",
    "dff"
   ]
  },
  {
   "attachments": {},
   "cell_type": "markdown",
   "metadata": {},
   "source": [
    "# Plot the data!"
   ]
  },
  {
   "cell_type": "code",
   "execution_count": 292,
   "metadata": {},
   "outputs": [
    {
     "data": {
      "application/vnd.plotly.v1+json": {
       "config": {
        "plotlyServerURL": "https://plot.ly"
       },
       "data": [
        {
         "hovertemplate": "Location=%{text}<br>Average Sales Price=%{x}<br>Closed Sales=%{y}<br>Average Sales Price Color=%{marker.size}<extra></extra>",
         "legendgroup": "Bothell",
         "marker": {
          "color": "rgb(76,114,176)",
          "size": [
           388915.19929779496
          ],
          "sizemode": "area",
          "sizeref": 364.1608651252537,
          "symbol": "circle"
         },
         "mode": "markers+text",
         "name": "Bothell",
         "orientation": "v",
         "showlegend": true,
         "text": [
          "Bothell"
         ],
         "textposition": "middle left",
         "type": "scatter",
         "x": [
          947509.2142857143
         ],
         "xaxis": "x",
         "y": [
          476
         ],
         "yaxis": "y"
        },
        {
         "hovertemplate": "Location=%{text}<br>Average Sales Price=%{x}<br>Closed Sales=%{y}<br>Average Sales Price Color=%{marker.size}<extra></extra>",
         "legendgroup": "Edmonds",
         "marker": {
          "color": "rgb(221,132,82)",
          "size": [
           349611.4435756166
          ],
          "sizemode": "area",
          "sizeref": 364.1608651252537,
          "symbol": "circle"
         },
         "mode": "markers+text",
         "name": "Edmonds",
         "orientation": "v",
         "showlegend": true,
         "text": [
          "Edmonds"
         ],
         "textposition": "top center",
         "type": "scatter",
         "x": [
          908205.4585635359
         ],
         "xaxis": "x",
         "y": [
          181
         ],
         "yaxis": "y"
        },
        {
         "hovertemplate": "Location=%{text}<br>Average Sales Price=%{x}<br>Closed Sales=%{y}<br>Average Sales Price Color=%{marker.size}<extra></extra>",
         "legendgroup": "Kenmore",
         "marker": {
          "color": "rgb(85,168,104)",
          "size": [
           446097.05977843574
          ],
          "sizemode": "area",
          "sizeref": 364.1608651252537,
          "symbol": "circle"
         },
         "mode": "markers+text",
         "name": "Kenmore",
         "orientation": "v",
         "showlegend": true,
         "text": [
          "Kenmore"
         ],
         "textposition": "top center",
         "type": "scatter",
         "x": [
          1004691.0747663551
         ],
         "xaxis": "x",
         "y": [
          107
         ],
         "yaxis": "y"
        },
        {
         "hovertemplate": "Location=%{text}<br>Average Sales Price=%{x}<br>Closed Sales=%{y}<br>Average Sales Price Color=%{marker.size}<extra></extra>",
         "legendgroup": "Lake Forest Park",
         "marker": {
          "color": "rgb(196,78,82)",
          "size": [
           398111.01626208064
          ],
          "sizemode": "area",
          "sizeref": 364.1608651252537,
          "symbol": "circle"
         },
         "mode": "markers+text",
         "name": "Lake Forest Park",
         "orientation": "v",
         "showlegend": true,
         "text": [
          "Lake Forest Park"
         ],
         "textposition": "middle left",
         "type": "scatter",
         "x": [
          956705.03125
         ],
         "xaxis": "x",
         "y": [
          32
         ],
         "yaxis": "y"
        },
        {
         "hovertemplate": "Location=%{text}<br>Average Sales Price=%{x}<br>Closed Sales=%{y}<br>Average Sales Price Color=%{marker.size}<extra></extra>",
         "legendgroup": "Lynnwood",
         "marker": {
          "color": "rgb(129,114,179)",
          "size": [
           143795.82711734378
          ],
          "sizemode": "area",
          "sizeref": 364.1608651252537,
          "symbol": "circle"
         },
         "mode": "markers+text",
         "name": "Lynnwood",
         "orientation": "v",
         "showlegend": true,
         "text": [
          "Lynnwood"
         ],
         "textposition": "top center",
         "type": "scatter",
         "x": [
          702389.8421052631
         ],
         "xaxis": "x",
         "y": [
          323
         ],
         "yaxis": "y"
        },
        {
         "hovertemplate": "Location=%{text}<br>Average Sales Price=%{x}<br>Closed Sales=%{y}<br>Average Sales Price Color=%{marker.size}<extra></extra>",
         "legendgroup": "Mountlake Terrace",
         "marker": {
          "color": "rgb(147,120,96)",
          "size": [
           68975.62907987728
          ],
          "sizemode": "area",
          "sizeref": 364.1608651252537,
          "symbol": "circle"
         },
         "mode": "markers+text",
         "name": "Mountlake Terrace",
         "orientation": "v",
         "showlegend": true,
         "text": [
          "Mountlake Terrace"
         ],
         "textposition": "top center",
         "type": "scatter",
         "x": [
          627569.6440677966
         ],
         "xaxis": "x",
         "y": [
          59
         ],
         "yaxis": "y"
        },
        {
         "hovertemplate": "Location=%{text}<br>Average Sales Price=%{x}<br>Closed Sales=%{y}<br>Average Sales Price Color=%{marker.size}<extra></extra>",
         "legendgroup": "Mukilteo",
         "marker": {
          "color": "rgb(218,139,195)",
          "size": [
           170751.1148822105
          ],
          "sizemode": "area",
          "sizeref": 364.1608651252537,
          "symbol": "circle"
         },
         "mode": "markers+text",
         "name": "Mukilteo",
         "orientation": "v",
         "showlegend": true,
         "text": [
          "Mukilteo"
         ],
         "textposition": "top center",
         "type": "scatter",
         "x": [
          729345.1298701299
         ],
         "xaxis": "x",
         "y": [
          77
         ],
         "yaxis": "y"
        },
        {
         "hovertemplate": "Location=%{text}<br>Average Sales Price=%{x}<br>Closed Sales=%{y}<br>Average Sales Price Color=%{marker.size}<extra></extra>",
         "legendgroup": "Shoreline",
         "marker": {
          "color": "rgb(140,140,140)",
          "size": [
           268118.76995831716
          ],
          "sizemode": "area",
          "sizeref": 364.1608651252537,
          "symbol": "circle"
         },
         "mode": "markers+text",
         "name": "Shoreline",
         "orientation": "v",
         "showlegend": true,
         "text": [
          "Shoreline"
         ],
         "textposition": "top center",
         "type": "scatter",
         "x": [
          826712.7849462365
         ],
         "xaxis": "x",
         "y": [
          186
         ],
         "yaxis": "y"
        }
       ],
       "layout": {
        "font": {
         "family": "Merriweather"
        },
        "height": 400,
        "legend": {
         "itemsizing": "constant",
         "title": {
          "text": "Location"
         },
         "tracegroupgap": 0
        },
        "margin": {
         "t": 60
        },
        "showlegend": false,
        "template": {
         "data": {
          "bar": [
           {
            "error_x": {
             "color": "rgb(36,36,36)"
            },
            "error_y": {
             "color": "rgb(36,36,36)"
            },
            "marker": {
             "line": {
              "color": "rgb(234,234,242)",
              "width": 0.5
             },
             "pattern": {
              "fillmode": "overlay",
              "size": 10,
              "solidity": 0.2
             }
            },
            "type": "bar"
           }
          ],
          "barpolar": [
           {
            "marker": {
             "line": {
              "color": "rgb(234,234,242)",
              "width": 0.5
             },
             "pattern": {
              "fillmode": "overlay",
              "size": 10,
              "solidity": 0.2
             }
            },
            "type": "barpolar"
           }
          ],
          "carpet": [
           {
            "aaxis": {
             "endlinecolor": "rgb(36,36,36)",
             "gridcolor": "white",
             "linecolor": "white",
             "minorgridcolor": "white",
             "startlinecolor": "rgb(36,36,36)"
            },
            "baxis": {
             "endlinecolor": "rgb(36,36,36)",
             "gridcolor": "white",
             "linecolor": "white",
             "minorgridcolor": "white",
             "startlinecolor": "rgb(36,36,36)"
            },
            "type": "carpet"
           }
          ],
          "choropleth": [
           {
            "colorbar": {
             "outlinewidth": 0,
             "tickcolor": "rgb(36,36,36)",
             "ticklen": 8,
             "ticks": "outside",
             "tickwidth": 2
            },
            "type": "choropleth"
           }
          ],
          "contour": [
           {
            "colorbar": {
             "outlinewidth": 0,
             "tickcolor": "rgb(36,36,36)",
             "ticklen": 8,
             "ticks": "outside",
             "tickwidth": 2
            },
            "colorscale": [
             [
              0,
              "rgb(2,4,25)"
             ],
             [
              0.06274509803921569,
              "rgb(24,15,41)"
             ],
             [
              0.12549019607843137,
              "rgb(47,23,57)"
             ],
             [
              0.18823529411764706,
              "rgb(71,28,72)"
             ],
             [
              0.25098039215686274,
              "rgb(97,30,82)"
             ],
             [
              0.3137254901960784,
              "rgb(123,30,89)"
             ],
             [
              0.3764705882352941,
              "rgb(150,27,91)"
             ],
             [
              0.4392156862745098,
              "rgb(177,22,88)"
             ],
             [
              0.5019607843137255,
              "rgb(203,26,79)"
             ],
             [
              0.5647058823529412,
              "rgb(223,47,67)"
             ],
             [
              0.6274509803921569,
              "rgb(236,76,61)"
             ],
             [
              0.6901960784313725,
              "rgb(242,107,73)"
             ],
             [
              0.7529411764705882,
              "rgb(244,135,95)"
             ],
             [
              0.8156862745098039,
              "rgb(245,162,122)"
             ],
             [
              0.8784313725490196,
              "rgb(246,188,153)"
             ],
             [
              0.9411764705882353,
              "rgb(247,212,187)"
             ],
             [
              1,
              "rgb(250,234,220)"
             ]
            ],
            "type": "contour"
           }
          ],
          "contourcarpet": [
           {
            "colorbar": {
             "outlinewidth": 0,
             "tickcolor": "rgb(36,36,36)",
             "ticklen": 8,
             "ticks": "outside",
             "tickwidth": 2
            },
            "type": "contourcarpet"
           }
          ],
          "heatmap": [
           {
            "colorbar": {
             "outlinewidth": 0,
             "tickcolor": "rgb(36,36,36)",
             "ticklen": 8,
             "ticks": "outside",
             "tickwidth": 2
            },
            "colorscale": [
             [
              0,
              "rgb(2,4,25)"
             ],
             [
              0.06274509803921569,
              "rgb(24,15,41)"
             ],
             [
              0.12549019607843137,
              "rgb(47,23,57)"
             ],
             [
              0.18823529411764706,
              "rgb(71,28,72)"
             ],
             [
              0.25098039215686274,
              "rgb(97,30,82)"
             ],
             [
              0.3137254901960784,
              "rgb(123,30,89)"
             ],
             [
              0.3764705882352941,
              "rgb(150,27,91)"
             ],
             [
              0.4392156862745098,
              "rgb(177,22,88)"
             ],
             [
              0.5019607843137255,
              "rgb(203,26,79)"
             ],
             [
              0.5647058823529412,
              "rgb(223,47,67)"
             ],
             [
              0.6274509803921569,
              "rgb(236,76,61)"
             ],
             [
              0.6901960784313725,
              "rgb(242,107,73)"
             ],
             [
              0.7529411764705882,
              "rgb(244,135,95)"
             ],
             [
              0.8156862745098039,
              "rgb(245,162,122)"
             ],
             [
              0.8784313725490196,
              "rgb(246,188,153)"
             ],
             [
              0.9411764705882353,
              "rgb(247,212,187)"
             ],
             [
              1,
              "rgb(250,234,220)"
             ]
            ],
            "type": "heatmap"
           }
          ],
          "heatmapgl": [
           {
            "colorbar": {
             "outlinewidth": 0,
             "tickcolor": "rgb(36,36,36)",
             "ticklen": 8,
             "ticks": "outside",
             "tickwidth": 2
            },
            "colorscale": [
             [
              0,
              "rgb(2,4,25)"
             ],
             [
              0.06274509803921569,
              "rgb(24,15,41)"
             ],
             [
              0.12549019607843137,
              "rgb(47,23,57)"
             ],
             [
              0.18823529411764706,
              "rgb(71,28,72)"
             ],
             [
              0.25098039215686274,
              "rgb(97,30,82)"
             ],
             [
              0.3137254901960784,
              "rgb(123,30,89)"
             ],
             [
              0.3764705882352941,
              "rgb(150,27,91)"
             ],
             [
              0.4392156862745098,
              "rgb(177,22,88)"
             ],
             [
              0.5019607843137255,
              "rgb(203,26,79)"
             ],
             [
              0.5647058823529412,
              "rgb(223,47,67)"
             ],
             [
              0.6274509803921569,
              "rgb(236,76,61)"
             ],
             [
              0.6901960784313725,
              "rgb(242,107,73)"
             ],
             [
              0.7529411764705882,
              "rgb(244,135,95)"
             ],
             [
              0.8156862745098039,
              "rgb(245,162,122)"
             ],
             [
              0.8784313725490196,
              "rgb(246,188,153)"
             ],
             [
              0.9411764705882353,
              "rgb(247,212,187)"
             ],
             [
              1,
              "rgb(250,234,220)"
             ]
            ],
            "type": "heatmapgl"
           }
          ],
          "histogram": [
           {
            "marker": {
             "pattern": {
              "fillmode": "overlay",
              "size": 10,
              "solidity": 0.2
             }
            },
            "type": "histogram"
           }
          ],
          "histogram2d": [
           {
            "colorbar": {
             "outlinewidth": 0,
             "tickcolor": "rgb(36,36,36)",
             "ticklen": 8,
             "ticks": "outside",
             "tickwidth": 2
            },
            "colorscale": [
             [
              0,
              "rgb(2,4,25)"
             ],
             [
              0.06274509803921569,
              "rgb(24,15,41)"
             ],
             [
              0.12549019607843137,
              "rgb(47,23,57)"
             ],
             [
              0.18823529411764706,
              "rgb(71,28,72)"
             ],
             [
              0.25098039215686274,
              "rgb(97,30,82)"
             ],
             [
              0.3137254901960784,
              "rgb(123,30,89)"
             ],
             [
              0.3764705882352941,
              "rgb(150,27,91)"
             ],
             [
              0.4392156862745098,
              "rgb(177,22,88)"
             ],
             [
              0.5019607843137255,
              "rgb(203,26,79)"
             ],
             [
              0.5647058823529412,
              "rgb(223,47,67)"
             ],
             [
              0.6274509803921569,
              "rgb(236,76,61)"
             ],
             [
              0.6901960784313725,
              "rgb(242,107,73)"
             ],
             [
              0.7529411764705882,
              "rgb(244,135,95)"
             ],
             [
              0.8156862745098039,
              "rgb(245,162,122)"
             ],
             [
              0.8784313725490196,
              "rgb(246,188,153)"
             ],
             [
              0.9411764705882353,
              "rgb(247,212,187)"
             ],
             [
              1,
              "rgb(250,234,220)"
             ]
            ],
            "type": "histogram2d"
           }
          ],
          "histogram2dcontour": [
           {
            "colorbar": {
             "outlinewidth": 0,
             "tickcolor": "rgb(36,36,36)",
             "ticklen": 8,
             "ticks": "outside",
             "tickwidth": 2
            },
            "colorscale": [
             [
              0,
              "rgb(2,4,25)"
             ],
             [
              0.06274509803921569,
              "rgb(24,15,41)"
             ],
             [
              0.12549019607843137,
              "rgb(47,23,57)"
             ],
             [
              0.18823529411764706,
              "rgb(71,28,72)"
             ],
             [
              0.25098039215686274,
              "rgb(97,30,82)"
             ],
             [
              0.3137254901960784,
              "rgb(123,30,89)"
             ],
             [
              0.3764705882352941,
              "rgb(150,27,91)"
             ],
             [
              0.4392156862745098,
              "rgb(177,22,88)"
             ],
             [
              0.5019607843137255,
              "rgb(203,26,79)"
             ],
             [
              0.5647058823529412,
              "rgb(223,47,67)"
             ],
             [
              0.6274509803921569,
              "rgb(236,76,61)"
             ],
             [
              0.6901960784313725,
              "rgb(242,107,73)"
             ],
             [
              0.7529411764705882,
              "rgb(244,135,95)"
             ],
             [
              0.8156862745098039,
              "rgb(245,162,122)"
             ],
             [
              0.8784313725490196,
              "rgb(246,188,153)"
             ],
             [
              0.9411764705882353,
              "rgb(247,212,187)"
             ],
             [
              1,
              "rgb(250,234,220)"
             ]
            ],
            "type": "histogram2dcontour"
           }
          ],
          "mesh3d": [
           {
            "colorbar": {
             "outlinewidth": 0,
             "tickcolor": "rgb(36,36,36)",
             "ticklen": 8,
             "ticks": "outside",
             "tickwidth": 2
            },
            "type": "mesh3d"
           }
          ],
          "parcoords": [
           {
            "line": {
             "colorbar": {
              "outlinewidth": 0,
              "tickcolor": "rgb(36,36,36)",
              "ticklen": 8,
              "ticks": "outside",
              "tickwidth": 2
             }
            },
            "type": "parcoords"
           }
          ],
          "pie": [
           {
            "automargin": true,
            "type": "pie"
           }
          ],
          "scatter": [
           {
            "fillpattern": {
             "fillmode": "overlay",
             "size": 10,
             "solidity": 0.2
            },
            "type": "scatter"
           }
          ],
          "scatter3d": [
           {
            "line": {
             "colorbar": {
              "outlinewidth": 0,
              "tickcolor": "rgb(36,36,36)",
              "ticklen": 8,
              "ticks": "outside",
              "tickwidth": 2
             }
            },
            "marker": {
             "colorbar": {
              "outlinewidth": 0,
              "tickcolor": "rgb(36,36,36)",
              "ticklen": 8,
              "ticks": "outside",
              "tickwidth": 2
             }
            },
            "type": "scatter3d"
           }
          ],
          "scattercarpet": [
           {
            "marker": {
             "colorbar": {
              "outlinewidth": 0,
              "tickcolor": "rgb(36,36,36)",
              "ticklen": 8,
              "ticks": "outside",
              "tickwidth": 2
             }
            },
            "type": "scattercarpet"
           }
          ],
          "scattergeo": [
           {
            "marker": {
             "colorbar": {
              "outlinewidth": 0,
              "tickcolor": "rgb(36,36,36)",
              "ticklen": 8,
              "ticks": "outside",
              "tickwidth": 2
             }
            },
            "type": "scattergeo"
           }
          ],
          "scattergl": [
           {
            "marker": {
             "colorbar": {
              "outlinewidth": 0,
              "tickcolor": "rgb(36,36,36)",
              "ticklen": 8,
              "ticks": "outside",
              "tickwidth": 2
             }
            },
            "type": "scattergl"
           }
          ],
          "scattermapbox": [
           {
            "marker": {
             "colorbar": {
              "outlinewidth": 0,
              "tickcolor": "rgb(36,36,36)",
              "ticklen": 8,
              "ticks": "outside",
              "tickwidth": 2
             }
            },
            "type": "scattermapbox"
           }
          ],
          "scatterpolar": [
           {
            "marker": {
             "colorbar": {
              "outlinewidth": 0,
              "tickcolor": "rgb(36,36,36)",
              "ticklen": 8,
              "ticks": "outside",
              "tickwidth": 2
             }
            },
            "type": "scatterpolar"
           }
          ],
          "scatterpolargl": [
           {
            "marker": {
             "colorbar": {
              "outlinewidth": 0,
              "tickcolor": "rgb(36,36,36)",
              "ticklen": 8,
              "ticks": "outside",
              "tickwidth": 2
             }
            },
            "type": "scatterpolargl"
           }
          ],
          "scatterternary": [
           {
            "marker": {
             "colorbar": {
              "outlinewidth": 0,
              "tickcolor": "rgb(36,36,36)",
              "ticklen": 8,
              "ticks": "outside",
              "tickwidth": 2
             }
            },
            "type": "scatterternary"
           }
          ],
          "surface": [
           {
            "colorbar": {
             "outlinewidth": 0,
             "tickcolor": "rgb(36,36,36)",
             "ticklen": 8,
             "ticks": "outside",
             "tickwidth": 2
            },
            "colorscale": [
             [
              0,
              "rgb(2,4,25)"
             ],
             [
              0.06274509803921569,
              "rgb(24,15,41)"
             ],
             [
              0.12549019607843137,
              "rgb(47,23,57)"
             ],
             [
              0.18823529411764706,
              "rgb(71,28,72)"
             ],
             [
              0.25098039215686274,
              "rgb(97,30,82)"
             ],
             [
              0.3137254901960784,
              "rgb(123,30,89)"
             ],
             [
              0.3764705882352941,
              "rgb(150,27,91)"
             ],
             [
              0.4392156862745098,
              "rgb(177,22,88)"
             ],
             [
              0.5019607843137255,
              "rgb(203,26,79)"
             ],
             [
              0.5647058823529412,
              "rgb(223,47,67)"
             ],
             [
              0.6274509803921569,
              "rgb(236,76,61)"
             ],
             [
              0.6901960784313725,
              "rgb(242,107,73)"
             ],
             [
              0.7529411764705882,
              "rgb(244,135,95)"
             ],
             [
              0.8156862745098039,
              "rgb(245,162,122)"
             ],
             [
              0.8784313725490196,
              "rgb(246,188,153)"
             ],
             [
              0.9411764705882353,
              "rgb(247,212,187)"
             ],
             [
              1,
              "rgb(250,234,220)"
             ]
            ],
            "type": "surface"
           }
          ],
          "table": [
           {
            "cells": {
             "fill": {
              "color": "rgb(231,231,240)"
             },
             "line": {
              "color": "white"
             }
            },
            "header": {
             "fill": {
              "color": "rgb(183,183,191)"
             },
             "line": {
              "color": "white"
             }
            },
            "type": "table"
           }
          ]
         },
         "layout": {
          "annotationdefaults": {
           "arrowcolor": "rgb(67,103,167)"
          },
          "autotypenumbers": "strict",
          "coloraxis": {
           "colorbar": {
            "outlinewidth": 0,
            "tickcolor": "rgb(36,36,36)",
            "ticklen": 8,
            "ticks": "outside",
            "tickwidth": 2
           }
          },
          "colorscale": {
           "sequential": [
            [
             0,
             "rgb(2,4,25)"
            ],
            [
             0.06274509803921569,
             "rgb(24,15,41)"
            ],
            [
             0.12549019607843137,
             "rgb(47,23,57)"
            ],
            [
             0.18823529411764706,
             "rgb(71,28,72)"
            ],
            [
             0.25098039215686274,
             "rgb(97,30,82)"
            ],
            [
             0.3137254901960784,
             "rgb(123,30,89)"
            ],
            [
             0.3764705882352941,
             "rgb(150,27,91)"
            ],
            [
             0.4392156862745098,
             "rgb(177,22,88)"
            ],
            [
             0.5019607843137255,
             "rgb(203,26,79)"
            ],
            [
             0.5647058823529412,
             "rgb(223,47,67)"
            ],
            [
             0.6274509803921569,
             "rgb(236,76,61)"
            ],
            [
             0.6901960784313725,
             "rgb(242,107,73)"
            ],
            [
             0.7529411764705882,
             "rgb(244,135,95)"
            ],
            [
             0.8156862745098039,
             "rgb(245,162,122)"
            ],
            [
             0.8784313725490196,
             "rgb(246,188,153)"
            ],
            [
             0.9411764705882353,
             "rgb(247,212,187)"
            ],
            [
             1,
             "rgb(250,234,220)"
            ]
           ],
           "sequentialminus": [
            [
             0,
             "rgb(2,4,25)"
            ],
            [
             0.06274509803921569,
             "rgb(24,15,41)"
            ],
            [
             0.12549019607843137,
             "rgb(47,23,57)"
            ],
            [
             0.18823529411764706,
             "rgb(71,28,72)"
            ],
            [
             0.25098039215686274,
             "rgb(97,30,82)"
            ],
            [
             0.3137254901960784,
             "rgb(123,30,89)"
            ],
            [
             0.3764705882352941,
             "rgb(150,27,91)"
            ],
            [
             0.4392156862745098,
             "rgb(177,22,88)"
            ],
            [
             0.5019607843137255,
             "rgb(203,26,79)"
            ],
            [
             0.5647058823529412,
             "rgb(223,47,67)"
            ],
            [
             0.6274509803921569,
             "rgb(236,76,61)"
            ],
            [
             0.6901960784313725,
             "rgb(242,107,73)"
            ],
            [
             0.7529411764705882,
             "rgb(244,135,95)"
            ],
            [
             0.8156862745098039,
             "rgb(245,162,122)"
            ],
            [
             0.8784313725490196,
             "rgb(246,188,153)"
            ],
            [
             0.9411764705882353,
             "rgb(247,212,187)"
            ],
            [
             1,
             "rgb(250,234,220)"
            ]
           ]
          },
          "colorway": [
           "rgb(76,114,176)",
           "rgb(221,132,82)",
           "rgb(85,168,104)",
           "rgb(196,78,82)",
           "rgb(129,114,179)",
           "rgb(147,120,96)",
           "rgb(218,139,195)",
           "rgb(140,140,140)",
           "rgb(204,185,116)",
           "rgb(100,181,205)"
          ],
          "font": {
           "color": "rgb(36,36,36)"
          },
          "geo": {
           "bgcolor": "white",
           "lakecolor": "white",
           "landcolor": "rgb(234,234,242)",
           "showlakes": true,
           "showland": true,
           "subunitcolor": "white"
          },
          "hoverlabel": {
           "align": "left"
          },
          "hovermode": "closest",
          "paper_bgcolor": "white",
          "plot_bgcolor": "rgb(234,234,242)",
          "polar": {
           "angularaxis": {
            "gridcolor": "white",
            "linecolor": "white",
            "showgrid": true,
            "ticks": ""
           },
           "bgcolor": "rgb(234,234,242)",
           "radialaxis": {
            "gridcolor": "white",
            "linecolor": "white",
            "showgrid": true,
            "ticks": ""
           }
          },
          "scene": {
           "xaxis": {
            "backgroundcolor": "rgb(234,234,242)",
            "gridcolor": "white",
            "gridwidth": 2,
            "linecolor": "white",
            "showbackground": true,
            "showgrid": true,
            "ticks": "",
            "zerolinecolor": "white"
           },
           "yaxis": {
            "backgroundcolor": "rgb(234,234,242)",
            "gridcolor": "white",
            "gridwidth": 2,
            "linecolor": "white",
            "showbackground": true,
            "showgrid": true,
            "ticks": "",
            "zerolinecolor": "white"
           },
           "zaxis": {
            "backgroundcolor": "rgb(234,234,242)",
            "gridcolor": "white",
            "gridwidth": 2,
            "linecolor": "white",
            "showbackground": true,
            "showgrid": true,
            "ticks": "",
            "zerolinecolor": "white"
           }
          },
          "shapedefaults": {
           "fillcolor": "rgb(67,103,167)",
           "line": {
            "width": 0
           },
           "opacity": 0.5
          },
          "ternary": {
           "aaxis": {
            "gridcolor": "white",
            "linecolor": "white",
            "showgrid": true,
            "ticks": ""
           },
           "baxis": {
            "gridcolor": "white",
            "linecolor": "white",
            "showgrid": true,
            "ticks": ""
           },
           "bgcolor": "rgb(234,234,242)",
           "caxis": {
            "gridcolor": "white",
            "linecolor": "white",
            "showgrid": true,
            "ticks": ""
           }
          },
          "xaxis": {
           "automargin": true,
           "gridcolor": "white",
           "linecolor": "white",
           "showgrid": true,
           "ticks": "",
           "title": {
            "standoff": 15
           },
           "zerolinecolor": "white"
          },
          "yaxis": {
           "automargin": true,
           "gridcolor": "white",
           "linecolor": "white",
           "showgrid": true,
           "ticks": "",
           "title": {
            "standoff": 15
           },
           "zerolinecolor": "white"
          }
         }
        },
        "title": {
         "text": "Average Sales Price and Closed Sales in 2023",
         "x": 0.5
        },
        "width": 700,
        "xaxis": {
         "anchor": "y",
         "domain": [
          0,
          1
         ],
         "range": [
          500000,
          1100000
         ],
         "title": {
          "text": "Average Sales Price"
         }
        },
        "yaxis": {
         "anchor": "x",
         "domain": [
          0,
          1
         ],
         "title": {
          "text": "Closed Sales"
         }
        }
       }
      }
     },
     "metadata": {},
     "output_type": "display_data"
    }
   ],
   "source": [
    "import plotly.express as px\n",
    "import plotly.io as pio\n",
    "# plot theme\n",
    "pio.templates.default = 'seaborn'\n",
    "\n",
    "fig = px.scatter(dff, x='Average Sales Price', y=\"Closed Sales\", range_x=[500000, 1100000], color=\"Location\", text=\"Location\", size=\"Average Sales Price Color\", size_max=35, width = 700, height=400 )\n",
    "fig.update_layout(title_text=\"Average Sales Price and Closed Sales in 2023\", title_x=0.5, showlegend=False)\n",
    "fig.update_layout(\n",
    "    font_family=\"Merriweather\"\n",
    ")\n",
    "\n",
    "def improve_text_position(location):\n",
    "    if location in [\"Lake Forest Park\",\"Bothell\"]:\n",
    "        return 'middle left'\n",
    "    else:\n",
    "        return 'top center'\n",
    "\n",
    "for location in dff['Location']:\n",
    "    fig.update_traces(selector = dict(name = location), textposition=improve_text_position(location))\n",
    "\n",
    "fig.show()\n"
   ]
  },
  {
   "cell_type": "code",
   "execution_count": 289,
   "metadata": {},
   "outputs": [
    {
     "data": {
      "text/plain": [
       "'Location,Average Sales Price,Closed Sales\\r\\nBothell,947509.2142857143,476.0\\r\\nEdmonds,908205.4585635359,181.0\\r\\nKenmore,1004691.0747663551,107.0\\r\\nLake Forest Park,956705.03125,32.0\\r\\nLynnwood,702389.8421052631,323.0\\r\\nMountlake Terrace,627569.6440677966,59.0\\r\\nMukilteo,729345.1298701299,77.0\\r\\nShoreline,826712.7849462365,186.0\\r\\n'"
      ]
     },
     "execution_count": 289,
     "metadata": {},
     "output_type": "execute_result"
    }
   ],
   "source": [
    "dff[['Average Sales Price', 'Closed Sales']].to_csv()"
   ]
  },
  {
   "cell_type": "code",
   "execution_count": null,
   "metadata": {},
   "outputs": [],
   "source": []
  }
 ],
 "metadata": {
  "kernelspec": {
   "display_name": "base",
   "language": "python",
   "name": "python3"
  },
  "language_info": {
   "codemirror_mode": {
    "name": "ipython",
    "version": 3
   },
   "file_extension": ".py",
   "mimetype": "text/x-python",
   "name": "python",
   "nbconvert_exporter": "python",
   "pygments_lexer": "ipython3",
   "version": "3.9.13"
  },
  "orig_nbformat": 4
 },
 "nbformat": 4,
 "nbformat_minor": 2
}
